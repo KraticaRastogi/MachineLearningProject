{
 "cells": [
  {
   "cell_type": "markdown",
   "metadata": {},
   "source": [
    "#### Importing all required libraries"
   ]
  },
  {
   "cell_type": "code",
   "execution_count": 1,
   "metadata": {},
   "outputs": [],
   "source": [
    "import os\n",
    "%matplotlib inline\n",
    "import matplotlib.pyplot as plt\n",
    "import cv2\n",
    "import numpy as np\n",
    "from sklearn import preprocessing\n",
    "from sklearn.neighbors import KNeighborsClassifier\n",
    "from sklearn.metrics import accuracy_score, precision_score, recall_score, f1_score, confusion_matrix, plot_confusion_matrix\n",
    "from sklearn.model_selection import train_test_split"
   ]
  },
  {
   "cell_type": "markdown",
   "metadata": {},
   "source": [
    " #### This method will load radiography data from \"COVID-19 Radiography Database\" folder\n",
    " #### return: (train_images, train_labels), (test_images, test_labels)"
   ]
  },
  {
   "cell_type": "code",
   "execution_count": 2,
   "metadata": {},
   "outputs": [],
   "source": [
    "def load_radiography_data():\n",
    "    \n",
    "    # Load all Covid Images\n",
    "    images = []\n",
    "    labels = []\n",
    "    for filename in os.listdir(os.path.join(\"C:/Users/Kratica Rastogi/PycharmProjects/FinalProject/COVID-19 Radiography Database\", \"COVID-19\")):\n",
    "        img = cv2.imread(os.path.join(\"C:/Users/Kratica Rastogi/PycharmProjects/FinalProject/COVID-19 Radiography Database\", \"COVID-19\", filename), cv2.IMREAD_GRAYSCALE)\n",
    "        if img is not None:\n",
    "            images.append(img)\n",
    "            labels.append(\"covid\")\n",
    "\n",
    "    count_covid_images = len(images)\n",
    "\n",
    "    # Load all Normal (non-covid) Images\n",
    "    for filename in os.listdir(os.path.join(\"C:/Users/Kratica Rastogi/PycharmProjects/FinalProject/COVID-19 Radiography Database\", \"NORMAL\")):\n",
    "        img = cv2.imread(os.path.join(\"C:/Users/Kratica Rastogi/PycharmProjects/FinalProject/COVID-19 Radiography Database\", \"NORMAL\", filename), cv2.IMREAD_GRAYSCALE)\n",
    "        if img is not None and count_covid_images > 0:\n",
    "            images.append(img)\n",
    "            labels.append(\"normal\")\n",
    "            count_covid_images = count_covid_images - 1\n",
    "\n",
    "    X_train, X_test, y_train, y_test = train_test_split(images, labels, test_size=0.25, shuffle=True)\n",
    "    return (np.array(X_train), np.array(y_train)), (np.array(X_test), np.array(y_test))"
   ]
  },
  {
   "cell_type": "markdown",
   "metadata": {},
   "source": [
    "#### This method will normalize the data by dividing by 255. The normalized values will lie between 0 and 1\n",
    "#### return: reshaped_train_images, reshaped_test_images, train_labels, test_labels"
   ]
  },
  {
   "cell_type": "code",
   "execution_count": 3,
   "metadata": {},
   "outputs": [],
   "source": [
    "def preprocess_data():\n",
    "    reshaped_train_images = train_images.reshape(len(train_images), 1024 * 1024)\n",
    "    reshaped_test_images = test_images.reshape(len(test_images), 1024 * 1024)\n",
    "    le = preprocessing.LabelEncoder()\n",
    "    \n",
    "    # Normalize pixel values to be between 0 and 1\n",
    "    return reshaped_train_images / 255.0, reshaped_test_images / 255.0, le.fit_transform(\n",
    "        train_labels), le.fit_transform(test_labels)"
   ]
  },
  {
   "cell_type": "markdown",
   "metadata": {},
   "source": [
    "####  This method will create and fit KNN model and return the same\n",
    "#### return: knn"
   ]
  },
  {
   "cell_type": "code",
   "execution_count": 4,
   "metadata": {},
   "outputs": [],
   "source": [
    "def create_and_train_model():\n",
    "    knn = KNeighborsClassifier(n_neighbors=2)\n",
    "    return knn.fit(train_images, train_labels)"
   ]
  },
  {
   "cell_type": "markdown",
   "metadata": {},
   "source": [
    "#### This method will predict the model\n",
    "#### return: predictions"
   ]
  },
  {
   "cell_type": "code",
   "execution_count": 5,
   "metadata": {},
   "outputs": [],
   "source": [
    "def predict_model():\n",
    "    return model.predict(test_images)"
   ]
  },
  {
   "cell_type": "markdown",
   "metadata": {},
   "source": [
    "#### This method will evaluate and print the score metrics\n",
    "#### return: nothing"
   ]
  },
  {
   "cell_type": "code",
   "execution_count": 6,
   "metadata": {},
   "outputs": [],
   "source": [
    "def evaluate_metrics():\n",
    "    acc = accuracy_score(test_labels, predictions)\n",
    "    prec_score = precision_score(test_labels, predictions, average='weighted', zero_division=0)\n",
    "    recall = recall_score(test_labels, predictions, average='weighted', zero_division=0)\n",
    "    fscore = f1_score(test_labels, predictions, average='weighted', zero_division=0)\n",
    "    confusion_matrix_knn = confusion_matrix(test_labels, predictions)\n",
    "    print(\"accuracy score:\", acc)\n",
    "    print(\"precision score:\", prec_score)\n",
    "    print(\"recall score:\", recall)\n",
    "    print(\"f score:\", fscore)\n",
    "    print(\"Confusion Matrix:\", confusion_matrix_knn)"
   ]
  },
  {
   "cell_type": "markdown",
   "metadata": {},
   "source": [
    "####  This method will plt the observations captured by fitting the model\n",
    "#### return: nothing"
   ]
  },
  {
   "cell_type": "code",
   "execution_count": 7,
   "metadata": {},
   "outputs": [],
   "source": [
    "def plot_observations():\n",
    "    \n",
    "    # # Generate confusion matrix\n",
    "    titles_options = [(\"Confusion matrix, with normalization\", None)]\n",
    "    for title, normalize in titles_options:\n",
    "        disp = plot_confusion_matrix(model, test_images, test_labels, cmap=plt.cm.Blues, normalize='true')\n",
    "        disp.ax_.set_title(title)\n",
    "\n",
    "        print(title)\n",
    "        print(disp.confusion_matrix)\n",
    "\n",
    "    plt.show()"
   ]
  },
  {
   "cell_type": "markdown",
   "metadata": {},
   "source": [
    "####  Main Method : Execution starts here"
   ]
  },
  {
   "cell_type": "code",
   "execution_count": 8,
   "metadata": {},
   "outputs": [
    {
     "name": "stdout",
     "output_type": "stream",
     "text": [
      "accuracy score: 0.9818181818181818\n",
      "precision score: 0.9825174825174825\n",
      "recall score: 0.9818181818181818\n",
      "f score: 0.9818423517326806\n",
      "Confusion Matrix: [[58  2]\n",
      " [ 0 50]]\n",
      "Confusion matrix, with normalization\n",
      "[[0.96666667 0.03333333]\n",
      " [0.         1.        ]]\n"
     ]
    },
    {
     "data": {
      "image/png": "[encoded data removed]",
      "text/plain": [
       "<Figure size 432x288 with 2 Axes>"
      ]
     },
     "metadata": {
      "needs_background": "light"
     },
     "output_type": "display_data"
    }
   ],
   "source": [
    "if __name__ == '__main__':\n",
    "\n",
    "    # load data\n",
    "    (train_images, train_labels), (test_images, test_labels) = load_radiography_data()\n",
    "\n",
    "    # pre-process data\n",
    "    train_images, test_images, train_labels, test_labels = preprocess_data()\n",
    "\n",
    "    # create and fit kNN\n",
    "    model = create_and_train_model()\n",
    "\n",
    "    # predict model\n",
    "    predictions = predict_model()\n",
    "\n",
    "    # print evaluations\n",
    "    evaluate_metrics()\n",
    "\n",
    "    # plot observation from model\n",
    "    plot_observations()"
   ]
  }
 ],
 "metadata": {
  "kernelspec": {
   "display_name": "Python 3",
   "language": "python",
   "name": "python3"
  },
  "language_info": {
   "codemirror_mode": {
    "name": "ipython",
    "version": 3
   },
   "file_extension": ".py",
   "mimetype": "text/x-python",
   "name": "python",
   "nbconvert_exporter": "python",
   "pygments_lexer": "ipython3",
   "version": "3.7.9"
  }
 },
 "nbformat": 4,
 "nbformat_minor": 4
}
